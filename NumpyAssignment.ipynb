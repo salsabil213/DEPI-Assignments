{
 "cells": [
  {
   "cell_type": "code",
   "execution_count": 1,
   "metadata": {},
   "outputs": [],
   "source": [
    "import numpy as np"
   ]
  },
  {
   "cell_type": "markdown",
   "metadata": {},
   "source": [
    " 1. Broadcasting"
   ]
  },
  {
   "cell_type": "code",
   "execution_count": 2,
   "metadata": {},
   "outputs": [
    {
     "name": "stdout",
     "output_type": "stream",
     "text": [
      "a) Result:\n",
      " [[11 22 33]\n",
      " [41 52 63]]\n",
      "b) Result:\n",
      " [[10 20]\n",
      " [60 80]]\n"
     ]
    }
   ],
   "source": [
    "# a Add a 1D array `[1, 2, 3]` to each row of a 2D array `[[10, 20, 30], [40, 50, 60]]`.\n",
    "arr2d = np.array([[10, 20, 30], [40, 50, 60]])\n",
    "arr1d = np.array([1, 2, 3])\n",
    "result1a = arr2d + arr1d\n",
    "print(\"a) Result:\\n\", result1a)\n",
    "# b Multiply a 2D array `[[1, 2], [3, 4]]` by a 1D array `[10, 20]` column-wise.\n",
    "arr2d_b = np.array([[1, 2], [3, 4]])\n",
    "arr1d_b = np.array([10, 20])\n",
    "result1b = arr2d_b * arr1d_b[:, np.newaxis]\n",
    "print(\"b)\\n\", result1b)"
   ]
  },
  {
   "cell_type": "markdown",
   "metadata": {},
   "source": [
    " 2. Indexing and Slicing (High Dimensional Arrays)"
   ]
  },
  {
   "cell_type": "code",
   "execution_count": 3,
   "metadata": {},
   "outputs": [
    {
     "name": "stdout",
     "output_type": "stream",
     "text": [
      "a) Result:\n",
      " [[13 14 15 16]\n",
      " [17 18 19 20]\n",
      " [21 22 23 24]]\n",
      "b) Result:\n",
      " [[ 4  8 12]\n",
      " [16 20 24]]\n",
      "c) Result:\n",
      " [[[13 14 15 16]\n",
      "  [17 18 19 20]\n",
      "  [21 22 23 24]]\n",
      "\n",
      " [[ 1  2  3  4]\n",
      "  [ 5  6  7  8]\n",
      "  [ 9 10 11 12]]]\n",
      "d) Result:\n",
      " [[[ 1 -1  3 -1]\n",
      "  [ 5 -1  7 -1]\n",
      "  [ 9 -1 11 -1]]\n",
      "\n",
      " [[13 -1 15 -1]\n",
      "  [17 -1 19 -1]\n",
      "  [21 -1 23 -1]]]\n"
     ]
    }
   ],
   "source": [
    "arr = np.arange(1, 25).reshape(2, 3, 4)\n",
    "# a) Extract the second slice along axis 0.\n",
    "result2a = arr[1]\n",
    "print(\"a)\\n\", result2a)\n",
    "# b) Extract all rows and the last column for all slices.\n",
    "result2b = arr[:, :, -1]\n",
    "print(\"b)\\n\", result2b)\n",
    "# c) Reverse the order of slices along axis 0.\n",
    "result2c = arr[::-1]\n",
    "print(\"c)\\n\", result2c)\n",
    "# d) Set all even elements in the array to -1.\n",
    "arr_even = arr.copy()\n",
    "arr_even[arr_even % 2 == 0] = -1\n",
    "print(\"d)\\n\", arr_even)"
   ]
  },
  {
   "cell_type": "markdown",
   "metadata": {},
   "source": [
    "3. np.repeat"
   ]
  },
  {
   "cell_type": "code",
   "execution_count": 4,
   "metadata": {},
   "outputs": [
    {
     "name": "stdout",
     "output_type": "stream",
     "text": [
      "a) Result:\n",
      " [1 1 2 3 3 4 5 5 6]\n",
      "b) Result:\n",
      " [1 2 2 3 3 3 4 4 4 4 5 5 5 5 5 6 6 6 6 6 6]\n"
     ]
    }
   ],
   "source": [
    "# a) Given `arr = np.array([1, 2, 3, 4, 5, 6])`, create a new array where every odd element is repeated twice.\n",
    "arr3a = np.array([1, 2, 3, 4, 5, 6])\n",
    "result3a = np.repeat(arr3a, np.where(arr3a % 2 != 0, 2, 1))\n",
    "print(\"a)\\n\", result3a)\n",
    "# b) Given `arr = np.array([1, 2, 3, 4, 5, 6])`, create a new array where elements are repeated based on their value.\n",
    "arr3b = np.array([1, 2, 3, 4, 5, 6])\n",
    "result3b = np.repeat(arr3b, arr3b)\n",
    "print(\"b)\\n\", result3b)\n"
   ]
  },
  {
   "cell_type": "markdown",
   "metadata": {},
   "source": [
    "4. Normalizing"
   ]
  },
  {
   "cell_type": "code",
   "execution_count": 5,
   "metadata": {},
   "outputs": [
    {
     "name": "stdout",
     "output_type": "stream",
     "text": [
      "a) Result:\n",
      "  [0.  0.5 1. ]\n"
     ]
    }
   ],
   "source": [
    "# a) Normalize a 1D array `arr = np.array([10, 20, 30])` to have values between 0 and 1.\n",
    "arr4a = np.array([10, 20, 30])\n",
    "result4a = (arr4a - arr4a.min()) / (arr4a.max() - arr4a.min())\n",
    "print(\"a)\\n \", result4a)\n"
   ]
  },
  {
   "cell_type": "markdown",
   "metadata": {},
   "source": [
    "5. Bonus Challenge"
   ]
  },
  {
   "cell_type": "code",
   "execution_count": 7,
   "metadata": {},
   "outputs": [
    {
     "name": "stdout",
     "output_type": "stream",
     "text": [
      "a)\n",
      " [[0 0 0]\n",
      " [0 1 2]\n",
      " [0 2 4]]\n",
      "b)\n",
      "  [[ 0  2  3  4]\n",
      " [ 5  0  7  8]\n",
      " [ 9 10  0 12]\n",
      " [13 14 15  0]]\n"
     ]
    }
   ],
   "source": [
    "# a) Create a 3x3 matrix where each element at position (i, j) is i * j.\n",
    "i = np.arange(3)\n",
    "j = np.arange(3)\n",
    "result5a = np.outer(i, j)\n",
    "print(\"a)\\n\", result5a)\n",
    "# b) Given a 4x4 matrix, replace all elements on the main diagonal with 0 without using a loop.\n",
    "arr5b = np.arange(1, 17).reshape(4, 4)\n",
    "np.fill_diagonal(arr5b, 0)\n",
    "print(\"b)\\n \", arr5b)"
   ]
  }
 ],
 "metadata": {
  "kernelspec": {
   "display_name": ".venv",
   "language": "python",
   "name": "python3"
  },
  "language_info": {
   "codemirror_mode": {
    "name": "ipython",
    "version": 3
   },
   "file_extension": ".py",
   "mimetype": "text/x-python",
   "name": "python",
   "nbconvert_exporter": "python",
   "pygments_lexer": "ipython3",
   "version": "3.13.0"
  }
 },
 "nbformat": 4,
 "nbformat_minor": 2
}
